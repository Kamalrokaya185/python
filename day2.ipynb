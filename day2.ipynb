{
 "cells": [
  {
   "cell_type": "code",
   "execution_count": 95,
   "id": "8e2ef950",
   "metadata": {},
   "outputs": [
    {
     "name": "stdout",
     "output_type": "stream",
     "text": [
      "['orange', 'apple', 'banana']\n",
      "['orange', 'apple']\n",
      "['apple', 'banana']\n"
     ]
    }
   ],
   "source": [
    "fruits=['orange','apple','banana']\n",
    "print(fruits)\n",
    "print(fruits[0:2])\n",
    "print(fruits[1:3])\n",
    "\n"
   ]
  },
  {
   "cell_type": "code",
   "execution_count": 96,
   "id": "1714cc75",
   "metadata": {},
   "outputs": [
    {
     "name": "stdout",
     "output_type": "stream",
     "text": [
      "['orange', 'apple', 'banana', 'pineapple']\n",
      "['orange', 'banana', 'pineapple']\n",
      "['banana', 'pineapple']\n",
      "['banana', 'Grapes', 'pineapple']\n"
     ]
    }
   ],
   "source": [
    "##fruits=['orange','apple','banana']\n",
    "fruits.append('pineapple')\n",
    "print(fruits)\n",
    "fruits.remove('apple')\n",
    "print(fruits)\n",
    "fruits.pop(0)\n",
    "print(fruits)\n",
    "fruits.insert(1,'Grapes')\n",
    "print(fruits)\n"
   ]
  },
  {
   "cell_type": "code",
   "execution_count": 97,
   "id": "d20fcd50",
   "metadata": {},
   "outputs": [
    {
     "name": "stdout",
     "output_type": "stream",
     "text": [
      "['apple', 'banana', 'orange']\n",
      "['orange', 'banana', 'apple']\n",
      "[]\n",
      "\n"
     ]
    }
   ],
   "source": [
    "fruits=['orange','apple','banana']\n",
    "fruits.sort()\n",
    "print(fruits)\n",
    "fruits.reverse()\n",
    "print(fruits)\n",
    "fruits.clear()\n",
    "print(fruits)\n",
    "fruits=['orange','apple','banana']\n",
    "print()\n"
   ]
  },
  {
   "cell_type": "code",
   "execution_count": null,
   "id": "9abfd5de",
   "metadata": {},
   "outputs": [
    {
     "name": "stdout",
     "output_type": "stream",
     "text": [
      "True\n",
      "True\n",
      "False\n",
      "True\n"
     ]
    }
   ],
   "source": [
    "list=[1,2,3,[4,5]]\n",
    "print(1 in list)\n",
    "print([4,5]in list)\n",
    "print(4 in list)\n",
    "print(4 in list[3])"
   ]
  },
  {
   "cell_type": "code",
   "execution_count": null,
   "id": "051088fc",
   "metadata": {},
   "outputs": [
    {
     "name": "stdout",
     "output_type": "stream",
     "text": [
      "[4, 5, [6, 7, 8], 9]\n",
      "[6, 7, 8]\n",
      "7\n"
     ]
    }
   ],
   "source": [
    "list1=[1,2,3,[4,5,[6,7,8],9]]\n",
    "print(list1[3])\n",
    "print(list1[3][2])\n",
    "print(list1[3][2][1])"
   ]
  },
  {
   "cell_type": "code",
   "execution_count": null,
   "id": "bf977af9",
   "metadata": {},
   "outputs": [
    {
     "name": "stdout",
     "output_type": "stream",
     "text": [
      "[1, 4, 9, 16, 25]\n"
     ]
    }
   ],
   "source": [
    "squares=[x**2 for x in range(1,6)]\n",
    "print(squares)"
   ]
  },
  {
   "cell_type": "code",
   "execution_count": null,
   "id": "98bbacb2",
   "metadata": {},
   "outputs": [
    {
     "name": "stdout",
     "output_type": "stream",
     "text": [
      "['APPLE', 'BANANA', 'CHERRY']\n"
     ]
    }
   ],
   "source": [
    "words=['apple','banana','cherry']\n",
    "uppercased=[word.upper() for word in words]\n",
    "print(uppercased)"
   ]
  },
  {
   "cell_type": "code",
   "execution_count": null,
   "id": "18beec52",
   "metadata": {},
   "outputs": [
    {
     "name": "stdout",
     "output_type": "stream",
     "text": [
      "{'Grapes', 'orange', 'Apple', 'pineapple', 'apple', 'banana'}\n",
      "['__and__', '__class__', '__class_getitem__', '__contains__', '__delattr__', '__dir__', '__doc__', '__eq__', '__format__', '__ge__', '__getattribute__', '__getstate__', '__gt__', '__hash__', '__iand__', '__init__', '__init_subclass__', '__ior__', '__isub__', '__iter__', '__ixor__', '__le__', '__len__', '__lt__', '__ne__', '__new__', '__or__', '__rand__', '__reduce__', '__reduce_ex__', '__repr__', '__ror__', '__rsub__', '__rxor__', '__setattr__', '__sizeof__', '__str__', '__sub__', '__subclasshook__', '__xor__', 'add', 'clear', 'copy', 'difference', 'difference_update', 'discard', 'intersection', 'intersection_update', 'isdisjoint', 'issubset', 'issuperset', 'pop', 'remove', 'symmetric_difference', 'symmetric_difference_update', 'union', 'update']\n"
     ]
    }
   ],
   "source": [
    "fruit12={'orange','apple','banana','pineapple','Grapes','Grapes','Apple'}\n",
    "print(fruit12)\n",
    "print(dir(fruit12))\n",
    "#print(fruit[1]) #donot work list index"
   ]
  },
  {
   "cell_type": "code",
   "execution_count": null,
   "id": "78328db6",
   "metadata": {},
   "outputs": [
    {
     "name": "stdout",
     "output_type": "stream",
     "text": [
      "{'Grapes', 'orange', 'Apple', 'pineapple', 'banana'}\n",
      "{'orange', 'Apple', 'pineapple', 'banana'}\n"
     ]
    }
   ],
   "source": [
    "fruit12={'orange','apple','banana','pineapple','Grapes','Grapes','Apple'}\n",
    "fruit12.remove('apple')\n",
    "print(fruit12)\n",
    "fruit12.pop()\n",
    "print(fruit12)"
   ]
  },
  {
   "cell_type": "code",
   "execution_count": null,
   "id": "1594c016",
   "metadata": {},
   "outputs": [
    {
     "name": "stdout",
     "output_type": "stream",
     "text": [
      "{1, 3, 4, 5}\n"
     ]
    }
   ],
   "source": [
    "set1={1,2,3,4,5}\n",
    "set1.remove(2)\n",
    "#set1.remove(2)\n",
    "set1.discard(2)\n",
    "print(set1)"
   ]
  },
  {
   "cell_type": "code",
   "execution_count": null,
   "id": "958c6f44",
   "metadata": {},
   "outputs": [
    {
     "name": "stdout",
     "output_type": "stream",
     "text": [
      "('orange', 'apple', 'banana')\n",
      "orange\n",
      "1\n"
     ]
    }
   ],
   "source": [
    "#Tuples() ordered and unchangeable Duplicates ,faster\n",
    "\n",
    "xyz=('orange','apple','banana')\n",
    "len(xyz)\n",
    "print(xyz)\n",
    "print(xyz[0])\n",
    "print(xyz.count('apple'))#for index  \n",
    "y=('grpes',)\n",
    "xyz+=y\n",
    "print(xyz) "
   ]
  },
  {
   "cell_type": "code",
   "execution_count": null,
   "id": "34def8a1",
   "metadata": {},
   "outputs": [
    {
     "name": "stdout",
     "output_type": "stream",
     "text": [
      "('orange', 'apple', 'banana', 'grpes')\n",
      "banana\n",
      "orange\n",
      "grpes\n",
      "apple\n"
     ]
    }
   ],
   "source": [
    "print(xyz) \n",
    "(green,yellow,red,blue)=xyz\n",
    "print(red)\n",
    "print(green)\n",
    "print(blue)\n",
    "print(yellow)"
   ]
  },
  {
   "cell_type": "code",
   "execution_count": null,
   "id": "ac6df68a",
   "metadata": {},
   "outputs": [
    {
     "name": "stdout",
     "output_type": "stream",
     "text": [
      "orange\n",
      "apple\n",
      "['banana', 'grpes']\n"
     ]
    }
   ],
   "source": [
    "(green,yellow,*blue)=xyz  #this * works as a list of remaning veriable\n",
    "\n",
    "print(green)\n",
    "print(yellow)\n",
    "print(blue)\n"
   ]
  },
  {
   "cell_type": "code",
   "execution_count": null,
   "id": "e1436f02",
   "metadata": {},
   "outputs": [],
   "source": [
    "t=(1,2,(3,4),['a','b'])\n"
   ]
  },
  {
   "cell_type": "code",
   "execution_count": null,
   "id": "c4a7e0ae",
   "metadata": {},
   "outputs": [
    {
     "ename": "TypeError",
     "evalue": "'list' object is not callable",
     "output_type": "error",
     "traceback": [
      "\u001b[31m---------------------------------------------------------------------------\u001b[39m",
      "\u001b[31mTypeError\u001b[39m                                 Traceback (most recent call last)",
      "\u001b[36mCell\u001b[39m\u001b[36m \u001b[39m\u001b[32mIn[75]\u001b[39m\u001b[32m, line 2\u001b[39m\n\u001b[32m      1\u001b[39m f1=(\u001b[33m'\u001b[39m\u001b[33mapple\u001b[39m\u001b[33m'\u001b[39m)\n\u001b[32m----> \u001b[39m\u001b[32m2\u001b[39m \u001b[38;5;28;43mlist\u001b[39;49m\u001b[43m(\u001b[49m\u001b[43mf1\u001b[49m\u001b[43m)\u001b[49m\n",
      "\u001b[31mTypeError\u001b[39m: 'list' object is not callable"
     ]
    }
   ],
   "source": [
    "f1=('apple')\n",
    "list(f1)"
   ]
  },
  {
   "cell_type": "code",
   "execution_count": null,
   "id": "fb199eaf",
   "metadata": {},
   "outputs": [
    {
     "name": "stdout",
     "output_type": "stream",
     "text": [
      "[1, 'hello', 3.14, True] (1, 'hello', 3.14, True) {'hello', 1, 3.14}\n"
     ]
    }
   ],
   "source": [
    "list=[1,\"hello\",3.14,True]\n",
    "tuple=(1,\"hello\",3.14,True)\n",
    "set={1,\"hello\",3.14,True}\n",
    "print(list,tuple,set)"
   ]
  },
  {
   "cell_type": "code",
   "execution_count": null,
   "id": "d69225bf",
   "metadata": {},
   "outputs": [
    {
     "name": "stdout",
     "output_type": "stream",
     "text": [
      "Not found\n",
      "Found\n"
     ]
    },
    {
     "name": "stdout",
     "output_type": "stream",
     "text": [
      "Not found\n",
      "Found\n"
     ]
    }
   ],
   "source": [
    "l1=['orange','apple','banana']\n",
    "for fruit in l1:\n",
    "    if fruit == 'apple':\n",
    "        print(\"Found\")\n",
    "        break\n",
    "    else:\n",
    "        print(\"Not found\")\n",
    "    \n",
    "\n",
    "       "
   ]
  },
  {
   "cell_type": "code",
   "execution_count": 99,
   "id": "28444f5a",
   "metadata": {},
   "outputs": [
    {
     "name": "stdout",
     "output_type": "stream",
     "text": [
      "found\n"
     ]
    }
   ],
   "source": [
    "i=0\n",
    "while i<len(l1):\n",
    "    if fruit==\"apple\":\n",
    "        print(\"found\")\n",
    "        break\n",
    "    i=i+1\n"
   ]
  },
  {
   "cell_type": "code",
   "execution_count": null,
   "id": "5ed0af7c",
   "metadata": {},
   "outputs": [],
   "source": []
  },
  {
   "cell_type": "code",
   "execution_count": null,
   "id": "13cb2bd7",
   "metadata": {},
   "outputs": [],
   "source": [
    "student={\n",
    "    1:\"first\",\n",
    "    \"name\",\n",
    "}"
   ]
  },
  {
   "cell_type": "code",
   "execution_count": null,
   "id": "e99ff87a",
   "metadata": {},
   "outputs": [],
   "source": []
  },
  {
   "cell_type": "code",
   "execution_count": null,
   "id": "6b1b24bf",
   "metadata": {},
   "outputs": [],
   "source": []
  },
  {
   "cell_type": "code",
   "execution_count": 100,
   "id": "7c9b021a",
   "metadata": {},
   "outputs": [
    {
     "ename": "NameError",
     "evalue": "name 'student' is not defined",
     "output_type": "error",
     "traceback": [
      "\u001b[31m---------------------------------------------------------------------------\u001b[39m",
      "\u001b[31mNameError\u001b[39m                                 Traceback (most recent call last)",
      "\u001b[36mCell\u001b[39m\u001b[36m \u001b[39m\u001b[32mIn[100]\u001b[39m\u001b[32m, line 1\u001b[39m\n\u001b[32m----> \u001b[39m\u001b[32m1\u001b[39m \u001b[38;5;28;01mfor\u001b[39;00m key \u001b[38;5;129;01min\u001b[39;00m \u001b[43mstudent\u001b[49m:\n\u001b[32m      2\u001b[39m     \u001b[38;5;28mprint\u001b[39m(key)\n\u001b[32m      3\u001b[39m \u001b[38;5;28;01mfor\u001b[39;00m value \u001b[38;5;129;01min\u001b[39;00m student.valuees():\n",
      "\u001b[31mNameError\u001b[39m: name 'student' is not defined"
     ]
    }
   ],
   "source": [
    "for key in student:\n",
    "    print(key)\n",
    "for value in student.valuees():\n",
    "    print(value)\n",
    "for key,value in student.items():\n",
    "    print(key,value)"
   ]
  },
  {
   "cell_type": "code",
   "execution_count": 101,
   "id": "1c5aa501",
   "metadata": {},
   "outputs": [
    {
     "name": "stdout",
     "output_type": "stream",
     "text": [
      "{0: 0, 1: 1, 2: 4, 3: 9, 4: 16}\n"
     ]
    }
   ],
   "source": [
    "square={x:x*x for x in range(5)}\n",
    "print(square)"
   ]
  }
 ],
 "metadata": {
  "kernelspec": {
   "display_name": "Python 3",
   "language": "python",
   "name": "python3"
  },
  "language_info": {
   "codemirror_mode": {
    "name": "ipython",
    "version": 3
   },
   "file_extension": ".py",
   "mimetype": "text/x-python",
   "name": "python",
   "nbconvert_exporter": "python",
   "pygments_lexer": "ipython3",
   "version": "3.12.8"
  }
 },
 "nbformat": 4,
 "nbformat_minor": 5
}
